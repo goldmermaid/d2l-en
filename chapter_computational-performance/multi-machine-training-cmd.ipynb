{
 "cells": [
  {
   "cell_type": "markdown",
   "metadata": {},
   "source": [
    "Command line which has error..."
   ]
  },
  {
   "cell_type": "code",
   "execution_count": 4,
   "metadata": {},
   "outputs": [
    {
     "name": "stdout",
     "output_type": "stream",
     "text": [
      "2 1\n",
      "2 0\n",
      "infer_shape error. Arguments:\n",
      "  data: (1, 3, 32, 32)\n",
      "Traceback (most recent call last):\n",
      "  File \"/home/ubuntu/miniconda3/envs/d2l/lib/python3.7/site-packages/mxnet/gluon/block.py\", line 1010, in _call_cached_op\n",
      "    for is_arg, i in self._cached_op_args]\n",
      "  File \"/home/ubuntu/miniconda3/envs/d2l/lib/python3.7/site-packages/mxnet/gluon/block.py\", line 1010, in <listcomp>\n",
      "    for is_arg, i in self._cached_op_args]\n",
      "  File \"/home/ubuntu/miniconda3/envs/d2l/lib/python3.7/site-packages/mxnet/gluon/parameter.py\", line 565, in data\n",
      "    return self._check_and_get(self._data, ctx)\n",
      "  File \"/home/ubuntu/miniconda3/envs/d2l/lib/python3.7/site-packages/mxnet/gluon/parameter.py\", line 236, in _check_and_get\n",
      "    \"num_features, etc., for network layers.\"%(self.name))\n",
      "mxnet.gluon.parameter.DeferredInitializationError: Parameter 'conv0_weight' has not been initialized yet because initialization was deferred. Actual initialization happens during the first forward pass. Please pass one batch of data through the network before accessing Parameters. You can also avoid deferred initialization by specifying in_units, num_features, etc., for network layers.\n",
      "\n",
      "During handling of the above exception, another exception occurred:\n",
      "\n",
      "Traceback (most recent call last):\n",
      "  File \"/home/ubuntu/miniconda3/envs/d2l/lib/python3.7/site-packages/mxnet/gluon/block.py\", line 973, in _deferred_infer_shape\n",
      "    self.infer_shape(*args)\n",
      "  File \"/home/ubuntu/miniconda3/envs/d2l/lib/python3.7/site-packages/mxnet/gluon/block.py\", line 1071, in infer_shape\n",
      "    self._infer_attrs('infer_shape', 'shape', *args)\n",
      "  File \"/home/ubuntu/miniconda3/envs/d2l/lib/python3.7/site-packages/mxnet/gluon/block.py\", line 1060, in _infer_attrs\n",
      "    **{i.name: getattr(j, attr) for i, j in zip(inputs, args_without_none)})\n",
      "  File \"/home/ubuntu/miniconda3/envs/d2l/lib/python3.7/site-packages/mxnet/symbol/symbol.py\", line 1103, in infer_shape\n",
      "    res = self._infer_shape_impl(False, *args, **kwargs)\n",
      "  File \"/home/ubuntu/miniconda3/envs/d2l/lib/python3.7/site-packages/mxnet/symbol/symbol.py\", line 1267, in _infer_shape_impl\n",
      "    ctypes.byref(complete)))\n",
      "  File \"/home/ubuntu/miniconda3/envs/d2l/lib/python3.7/site-packages/mxnet/base.py\", line 278, in check_call\n",
      "    raise MXNetError(py_str(_LIB.MXGetLastError()))\n",
      "mxnet.base.MXNetError: Error in operator residual0_add0: [19:47:12] src/operator/numpy/../tensor/elemwise_binary_broadcast_op.h:68: Check failed: l == 1 || r == 1: operands could not be broadcast together with shapes [1,10,32,32] [1,3,32,32]\n",
      "Stack trace:\n",
      "  [bt] (0) /home/ubuntu/miniconda3/envs/d2l/lib/python3.7/site-packages/mxnet/libmxnet.so(+0x6ccefb) [0x7f300dffeefb]\n",
      "  [bt] (1) /home/ubuntu/miniconda3/envs/d2l/lib/python3.7/site-packages/mxnet/libmxnet.so(+0x187de8d) [0x7f300f1afe8d]\n",
      "  [bt] (2) /home/ubuntu/miniconda3/envs/d2l/lib/python3.7/site-packages/mxnet/libmxnet.so(+0x3973ccc) [0x7f30112a5ccc]\n",
      "  [bt] (3) /home/ubuntu/miniconda3/envs/d2l/lib/python3.7/site-packages/mxnet/libmxnet.so(+0x397754e) [0x7f30112a954e]\n",
      "  [bt] (4) /home/ubuntu/miniconda3/envs/d2l/lib/python3.7/site-packages/mxnet/libmxnet.so(+0x38bfca1) [0x7f30111f1ca1]\n",
      "  [bt] (5) /home/ubuntu/miniconda3/envs/d2l/lib/python3.7/site-packages/mxnet/libmxnet.so(MXSymbolInferShapeEx+0xc1) [0x7f30111f2331]\n",
      "  [bt] (6) /home/ubuntu/miniconda3/envs/d2l/lib/python3.7/lib-dynload/../../libffi.so.6(ffi_call_unix64+0x4c) [0x7f30511aeec0]\n",
      "  [bt] (7) /home/ubuntu/miniconda3/envs/d2l/lib/python3.7/lib-dynload/../../libffi.so.6(ffi_call+0x22d) [0x7f30511ae87d]\n",
      "  [bt] (8) /home/ubuntu/miniconda3/envs/d2l/lib/python3.7/lib-dynload/_ctypes.cpython-37m-x86_64-linux-gnu.so(_ctypes_callproc+0x2ce) [0x7f30513c41de]\n",
      "\n",
      "\n",
      "\n",
      "During handling of the above exception, another exception occurred:\n",
      "\n",
      "Traceback (most recent call last):\n",
      "  File \"cifar10_dist.py\", line 283, in <module>\n",
      "    lr_decay)\n",
      "  File \"cifar10_dist.py\", line 246, in train\n",
      "    y_hat = net(X.as_in_context(ctx))\n",
      "  File \"/home/ubuntu/miniconda3/envs/d2l/lib/python3.7/site-packages/mxnet/gluon/block.py\", line 693, in __call__\n",
      "    out = self.forward(*args)\n",
      "  File \"/home/ubuntu/miniconda3/envs/d2l/lib/python3.7/site-packages/mxnet/gluon/block.py\", line 1148, in forward\n",
      "    return self._call_cached_op(x, *args)\n",
      "  File \"/home/ubuntu/miniconda3/envs/d2l/lib/python3.7/site-packages/mxnet/gluon/block.py\", line 1012, in _call_cached_op\n",
      "    self._deferred_infer_shape(*args)\n",
      "  File \"/home/ubuntu/miniconda3/envs/d2l/lib/python3.7/site-packages/mxnet/gluon/block.py\", line 977, in _deferred_infer_shape\n",
      "    raise ValueError(error_msg)\n",
      "ValueError: Deferred initialization failed because shape cannot be inferred. Error in operator residual0_add0: [19:47:12] src/operator/numpy/../tensor/elemwise_binary_broadcast_op.h:68: Check failed: l == 1 || r == 1: operands could not be broadcast together with shapes [1,10,32,32] [1,3,32,32]\n",
      "Stack trace:\n",
      "  [bt] (0) /home/ubuntu/miniconda3/envs/d2l/lib/python3.7/site-packages/mxnet/libmxnet.so(+0x6ccefb) [0x7f300dffeefb]\n",
      "  [bt] (1) /home/ubuntu/miniconda3/envs/d2l/lib/python3.7/site-packages/mxnet/libmxnet.so(+0x187de8d) [0x7f300f1afe8d]\n",
      "  [bt] (2) /home/ubuntu/miniconda3/envs/d2l/lib/python3.7/site-packages/mxnet/libmxnet.so(+0x3973ccc) [0x7f30112a5ccc]\n",
      "  [bt] (3) /home/ubuntu/miniconda3/envs/d2l/lib/python3.7/site-packages/mxnet/libmxnet.so(+0x397754e) [0x7f30112a954e]\n",
      "  [bt] (4) /home/ubuntu/miniconda3/envs/d2l/lib/python3.7/site-packages/mxnet/libmxnet.so(+0x38bfca1) [0x7f30111f1ca1]\n",
      "  [bt] (5) /home/ubuntu/miniconda3/envs/d2l/lib/python3.7/site-packages/mxnet/libmxnet.so(MXSymbolInferShapeEx+0xc1) [0x7f30111f2331]\n",
      "  [bt] (6) /home/ubuntu/miniconda3/envs/d2l/lib/python3.7/lib-dynload/../../libffi.so.6(ffi_call_unix64+0x4c) [0x7f30511aeec0]\n",
      "  [bt] (7) /home/ubuntu/miniconda3/envs/d2l/lib/python3.7/lib-dynload/../../libffi.so.6(ffi_call+0x22d) [0x7f30511ae87d]\n",
      "  [bt] (8) /home/ubuntu/miniconda3/envs/d2l/lib/python3.7/lib-dynload/_ctypes.cpython-37m-x86_64-linux-gnu.so(_ctypes_callproc+0x2ce) [0x7f30513c41de]\n",
      "\n",
      "\n",
      "terminate called without an active exception\n",
      "infer_shape error. Arguments:\n",
      "  data: (1, 3, 32, 32)\n",
      "Traceback (most recent call last):\n",
      "  File \"/home/ubuntu/miniconda3/envs/d2l/lib/python3.7/site-packages/mxnet/gluon/block.py\", line 1010, in _call_cached_op\n",
      "    for is_arg, i in self._cached_op_args]\n",
      "  File \"/home/ubuntu/miniconda3/envs/d2l/lib/python3.7/site-packages/mxnet/gluon/block.py\", line 1010, in <listcomp>\n",
      "    for is_arg, i in self._cached_op_args]\n",
      "  File \"/home/ubuntu/miniconda3/envs/d2l/lib/python3.7/site-packages/mxnet/gluon/parameter.py\", line 565, in data\n",
      "    return self._check_and_get(self._data, ctx)\n",
      "  File \"/home/ubuntu/miniconda3/envs/d2l/lib/python3.7/site-packages/mxnet/gluon/parameter.py\", line 236, in _check_and_get\n",
      "    \"num_features, etc., for network layers.\"%(self.name))\n",
      "mxnet.gluon.parameter.DeferredInitializationError: Parameter 'conv0_weight' has not been initialized yet because initialization was deferred. Actual initialization happens during the first forward pass. Please pass one batch of data through the network before accessing Parameters. You can also avoid deferred initialization by specifying in_units, num_features, etc., for network layers.\n",
      "\n",
      "During handling of the above exception, another exception occurred:\n",
      "\n",
      "Traceback (most recent call last):\n",
      "  File \"/home/ubuntu/miniconda3/envs/d2l/lib/python3.7/site-packages/mxnet/gluon/block.py\", line 973, in _deferred_infer_shape\n",
      "    self.infer_shape(*args)\n",
      "  File \"/home/ubuntu/miniconda3/envs/d2l/lib/python3.7/site-packages/mxnet/gluon/block.py\", line 1071, in infer_shape\n",
      "    self._infer_attrs('infer_shape', 'shape', *args)\n",
      "  File \"/home/ubuntu/miniconda3/envs/d2l/lib/python3.7/site-packages/mxnet/gluon/block.py\", line 1060, in _infer_attrs\n",
      "    **{i.name: getattr(j, attr) for i, j in zip(inputs, args_without_none)})\n",
      "  File \"/home/ubuntu/miniconda3/envs/d2l/lib/python3.7/site-packages/mxnet/symbol/symbol.py\", line 1103, in infer_shape\n",
      "    res = self._infer_shape_impl(False, *args, **kwargs)\n",
      "  File \"/home/ubuntu/miniconda3/envs/d2l/lib/python3.7/site-packages/mxnet/symbol/symbol.py\", line 1267, in _infer_shape_impl\n",
      "    ctypes.byref(complete)))\n",
      "  File \"/home/ubuntu/miniconda3/envs/d2l/lib/python3.7/site-packages/mxnet/base.py\", line 278, in check_call\n",
      "    raise MXNetError(py_str(_LIB.MXGetLastError()))\n",
      "mxnet.base.MXNetError: Error in operator residual0_add0: [19:47:12] src/operator/numpy/../tensor/elemwise_binary_broadcast_op.h:68: Check failed: l == 1 || r == 1: operands could not be broadcast together with shapes [1,10,32,32] [1,3,32,32]\n",
      "Stack trace:\n",
      "  [bt] (0) /home/ubuntu/miniconda3/envs/d2l/lib/python3.7/site-packages/mxnet/libmxnet.so(+0x6ccefb) [0x7f5277a34efb]\n",
      "  [bt] (1) /home/ubuntu/miniconda3/envs/d2l/lib/python3.7/site-packages/mxnet/libmxnet.so(+0x187de8d) [0x7f5278be5e8d]\n",
      "  [bt] (2) /home/ubuntu/miniconda3/envs/d2l/lib/python3.7/site-packages/mxnet/libmxnet.so(+0x3973ccc) [0x7f527acdbccc]\n",
      "  [bt] (3) /home/ubuntu/miniconda3/envs/d2l/lib/python3.7/site-packages/mxnet/libmxnet.so(+0x397754e) [0x7f527acdf54e]\n",
      "  [bt] (4) /home/ubuntu/miniconda3/envs/d2l/lib/python3.7/site-packages/mxnet/libmxnet.so(+0x38bfca1) [0x7f527ac27ca1]\n",
      "  [bt] (5) /home/ubuntu/miniconda3/envs/d2l/lib/python3.7/site-packages/mxnet/libmxnet.so(MXSymbolInferShapeEx+0xc1) [0x7f527ac28331]\n",
      "  [bt] (6) /home/ubuntu/miniconda3/envs/d2l/lib/python3.7/lib-dynload/../../libffi.so.6(ffi_call_unix64+0x4c) [0x7f52babe4ec0]\n",
      "  [bt] (7) /home/ubuntu/miniconda3/envs/d2l/lib/python3.7/lib-dynload/../../libffi.so.6(ffi_call+0x22d) [0x7f52babe487d]\n",
      "  [bt] (8) /home/ubuntu/miniconda3/envs/d2l/lib/python3.7/lib-dynload/_ctypes.cpython-37m-x86_64-linux-gnu.so(_ctypes_callproc+0x2ce) [0x7f52badfa1de]\n",
      "\n",
      "\n",
      "\n",
      "During handling of the above exception, another exception occurred:\n",
      "\n",
      "Traceback (most recent call last):\n",
      "  File \"cifar10_dist.py\", line 283, in <module>\n",
      "    lr_decay)\n",
      "  File \"cifar10_dist.py\", line 246, in train\n",
      "    y_hat = net(X.as_in_context(ctx))\n",
      "  File \"/home/ubuntu/miniconda3/envs/d2l/lib/python3.7/site-packages/mxnet/gluon/block.py\", line 693, in __call__\n",
      "    out = self.forward(*args)\n",
      "  File \"/home/ubuntu/miniconda3/envs/d2l/lib/python3.7/site-packages/mxnet/gluon/block.py\", line 1148, in forward\n",
      "    return self._call_cached_op(x, *args)\n",
      "  File \"/home/ubuntu/miniconda3/envs/d2l/lib/python3.7/site-packages/mxnet/gluon/block.py\", line 1012, in _call_cached_op\n",
      "    self._deferred_infer_shape(*args)\n",
      "  File \"/home/ubuntu/miniconda3/envs/d2l/lib/python3.7/site-packages/mxnet/gluon/block.py\", line 977, in _deferred_infer_shape\n",
      "    raise ValueError(error_msg)\n",
      "ValueError: Deferred initialization failed because shape cannot be inferred. Error in operator residual0_add0: [19:47:12] src/operator/numpy/../tensor/elemwise_binary_broadcast_op.h:68: Check failed: l == 1 || r == 1: operands could not be broadcast together with shapes [1,10,32,32] [1,3,32,32]\n",
      "Stack trace:\n",
      "  [bt] (0) /home/ubuntu/miniconda3/envs/d2l/lib/python3.7/site-packages/mxnet/libmxnet.so(+0x6ccefb) [0x7f5277a34efb]\n",
      "  [bt] (1) /home/ubuntu/miniconda3/envs/d2l/lib/python3.7/site-packages/mxnet/libmxnet.so(+0x187de8d) [0x7f5278be5e8d]\n",
      "  [bt] (2) /home/ubuntu/miniconda3/envs/d2l/lib/python3.7/site-packages/mxnet/libmxnet.so(+0x3973ccc) [0x7f527acdbccc]\n",
      "  [bt] (3) /home/ubuntu/miniconda3/envs/d2l/lib/python3.7/site-packages/mxnet/libmxnet.so(+0x397754e) [0x7f527acdf54e]\n",
      "  [bt] (4) /home/ubuntu/miniconda3/envs/d2l/lib/python3.7/site-packages/mxnet/libmxnet.so(+0x38bfca1) [0x7f527ac27ca1]\n",
      "  [bt] (5) /home/ubuntu/miniconda3/envs/d2l/lib/python3.7/site-packages/mxnet/libmxnet.so(MXSymbolInferShapeEx+0xc1) [0x7f527ac28331]\n",
      "  [bt] (6) /home/ubuntu/miniconda3/envs/d2l/lib/python3.7/lib-dynload/../../libffi.so.6(ffi_call_unix64+0x4c) [0x7f52babe4ec0]\n",
      "  [bt] (7) /home/ubuntu/miniconda3/envs/d2l/lib/python3.7/lib-dynload/../../libffi.so.6(ffi_call+0x22d) [0x7f52babe487d]\n",
      "  [bt] (8) /home/ubuntu/miniconda3/envs/d2l/lib/python3.7/lib-dynload/_ctypes.cpython-37m-x86_64-linux-gnu.so(_ctypes_callproc+0x2ce) [0x7f52badfa1de]\n",
      "\n",
      "\n"
     ]
    },
    {
     "name": "stdout",
     "output_type": "stream",
     "text": [
      "terminate called without an active exception\r\n"
     ]
    }
   ],
   "source": [
    "launcher_path = \"/home/ubuntu/miniconda3/envs/d2l/lib/python3.7/site-packages/mxnet/tools/launch.py\"\n",
    "current_dir = !pwd\n",
    "\n",
    "\n",
    "!python {launcher_path} \\\n",
    "    -n 2 -s 2 \\\n",
    "    --sync-dst-dir {current_dir} \\\n",
    "    --launcher local \"python cifar10_dist.py\""
   ]
  },
  {
   "cell_type": "code",
   "execution_count": 1,
   "metadata": {},
   "outputs": [],
   "source": [
    "current_dir = !pwd"
   ]
  },
  {
   "cell_type": "code",
   "execution_count": 2,
   "metadata": {},
   "outputs": [
    {
     "data": {
      "text/plain": [
       "['/home/ubuntu/d2l-en/chapter_computational-performance']"
      ]
     },
     "execution_count": 2,
     "metadata": {},
     "output_type": "execute_result"
    }
   ],
   "source": [
    "current_dir"
   ]
  },
  {
   "cell_type": "code",
   "execution_count": null,
   "metadata": {},
   "outputs": [],
   "source": [
    "python \"/home/ubuntu/miniconda3/envs/d2l/lib/python3.7/site-packages/mxnet/tools/launch.py\" -n 2 -s 2 --sync-dst-dir {'/home/ubuntu/d2l-en/chapter_computational-performance'} --launcher local \"python cifar10_dist.py\"\n"
   ]
  }
 ],
 "metadata": {
  "kernelspec": {
   "display_name": "Python 3",
   "language": "python",
   "name": "python3"
  },
  "language_info": {
   "codemirror_mode": {
    "name": "ipython",
    "version": 3
   },
   "file_extension": ".py",
   "mimetype": "text/x-python",
   "name": "python",
   "nbconvert_exporter": "python",
   "pygments_lexer": "ipython3",
   "version": "3.7.6"
  }
 },
 "nbformat": 4,
 "nbformat_minor": 4
}
